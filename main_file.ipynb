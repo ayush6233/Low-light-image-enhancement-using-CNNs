{
  "nbformat": 4,
  "nbformat_minor": 0,
  "metadata": {
    "colab": {
      "provenance": [],
      "authorship_tag": "ABX9TyNrZIFafGxsPotwLqQOiZeW",
      "include_colab_link": true
    },
    "kernelspec": {
      "name": "python3",
      "display_name": "Python 3"
    },
    "language_info": {
      "name": "python"
    }
  },
  "cells": [
    {
      "cell_type": "markdown",
      "metadata": {
        "id": "view-in-github",
        "colab_type": "text"
      },
      "source": [
        "<a href=\"https://colab.research.google.com/github/ayush6233/Low-light-image-enhancement-using-CNNs/blob/main/main_file.ipynb\" target=\"_parent\"><img src=\"https://colab.research.google.com/assets/colab-badge.svg\" alt=\"Open In Colab\"/></a>"
      ]
    },
    {
      "cell_type": "code",
      "execution_count": null,
      "metadata": {
        "id": "xuKbkShV_McN"
      },
      "outputs": [],
      "source": [
        "import numpy as np\n",
        "import imageio\n",
        "import matplotlib.pyplot as plt\n",
        "from tensorflow.keras.models import load_model\n",
        "from data_utils import load_images, split_data\n",
        "from model_utils import create_denoise_model\n",
        "from training_utils import generate_data, train_model"
      ]
    },
    {
      "cell_type": "code",
      "source": [
        "\n",
        "# Load data\n",
        "train_high = load_images('/content/gdrive/MyDrive/dataset/trainsplit/high')\n",
        "train_low = load_images('/content/gdrive/MyDrive/dataset/trainsplit/low')\n",
        "test_high = load_images('/content/gdrive/MyDrive/dataset/testsplit/high')\n",
        "test_low = load_images('/content/gdrive/MyDrive/dataset/testsplit/low')\n"
      ],
      "metadata": {
        "id": "pdOqa92p_Tpx"
      },
      "execution_count": null,
      "outputs": []
    },
    {
      "cell_type": "code",
      "source": [
        "# Build and train model\n",
        "denoise_model = create_denoise_model(input_shape=(None, None, 3))\n",
        "denoise_model = train_model(denoise_model, train_low, train_high, epochs=15)"
      ],
      "metadata": {
        "id": "-GchfLee_bBo"
      },
      "execution_count": null,
      "outputs": []
    },
    {
      "cell_type": "code",
      "source": [
        "pathh = \"/content/gdrive/MyDrive/DenoisingProject/denoising_model.h5\" ## give your path\n",
        "denoise_model.save(pathh)"
      ],
      "metadata": {
        "id": "oueoMkYo_cak"
      },
      "execution_count": null,
      "outputs": []
    },
    {
      "cell_type": "code",
      "source": [
        "\n",
        "from evaluation_utils import psnr_metric, compute_psnr, denoise_img\n",
        "denoise_path = \"/content/gdrive/MyDrive/DenoisingProject/denoising_model.h5\"## give your path\n",
        "# Load the model\n",
        "denoise_model = load_model(denoise_path,\n",
        "                           custom_objects={'psnr_metric': psnr_metric})\n",
        "\n",
        "denoise_model.summary()"
      ],
      "metadata": {
        "id": "LhmEJbtV_lZ_"
      },
      "execution_count": null,
      "outputs": []
    },
    {
      "cell_type": "code",
      "source": [
        "# Test the model\n",
        "psnr_values = compute_psnr(denoise_model, test_low, 8)\n",
        "\n",
        "# Calculate average PSNR\n",
        "average_psnr = np.mean(psnr_values)\n",
        "print(f\"Average PSNR value: {average_psnr}\")\n",
        ""
      ],
      "metadata": {
        "id": "mmEahOXH_wue"
      },
      "execution_count": null,
      "outputs": []
    },
    {
      "cell_type": "code",
      "source": [
        "from evaluation_utils import denoise_img,psnr_metric,plot_denoised_img\n",
        "from matplotlib import pyplot as plt"
      ],
      "metadata": {
        "id": "WcfEyDPu_2nq"
      },
      "execution_count": null,
      "outputs": []
    },
    {
      "cell_type": "code",
      "source": [
        "\n",
        "#To plot denoised image run polt_denoised_img(low_test_img,index,Image index in low_test_img,denoising model)\n",
        "plot_denoised_img(test_low,8,15,denoise_model)"
      ],
      "metadata": {
        "id": "jeBF-Mf6_4cW"
      },
      "execution_count": null,
      "outputs": []
    }
  ]
}